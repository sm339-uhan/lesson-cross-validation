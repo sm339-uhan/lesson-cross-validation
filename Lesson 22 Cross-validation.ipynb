{
 "cells": [
  {
   "cell_type": "markdown",
   "id": "a9e27a2f-9be4-424d-a279-5b4797538147",
   "metadata": {},
   "source": [
    "**SM339 &#x25aa; Applied Statistics &#x25aa; Spring 2023 &#x25aa; Uhan**"
   ]
  },
  {
   "cell_type": "markdown",
   "id": "b96a8e6e-7240-4f37-8df3-26aac59b3c8b",
   "metadata": {},
   "source": [
    "# Lesson 22. Cross-validation"
   ]
  },
  {
   "cell_type": "markdown",
   "id": "754c254a-a4e5-4c39-bb75-8aa40e2707fd",
   "metadata": {},
   "source": [
    "## Overview"
   ]
  },
  {
   "cell_type": "markdown",
   "id": "aa9b366f-eba1-4e17-bcde-d3cdea275bb0",
   "metadata": {},
   "source": [
    "- Often, we fit a statistical model to _make predictions_\n",
    "\n",
    "- In this scenario, we can easily check how well the model works:\n",
    "\n",
    "    - Use the model to make a prediction\n",
    "    \n",
    "    - Wait until the response variable can be measured to see how close the prediction comes to the actual value\n",
    "    \n",
    "- However... wouldn't it be nice to judge how well the model works _before_ using it on _new_ data?"
   ]
  },
  {
   "cell_type": "markdown",
   "id": "e5cd4798-8e1f-45f4-8aa7-08ce5a30a63e",
   "metadata": {},
   "source": [
    "- __Cross-validation__ is a resampling method that uses different portions of the data to fit a model and then test the model\n",
    "\n",
    "- One approach:\n",
    "\n",
    "    - Build and fit the model with one set of data, called the __training sample__\n",
    "    \n",
    "    - Use the fitted model to predict responses for a second set of data, called the __testing__ or __holdout sample__\n",
    "    \n",
    "    - Compare the accuracy of the fit in the training sample to what is observed for the holdout sample\n",
    "    \n",
    "- Generally, we expect the performance of the model to be worse for predicting new data, but _hopefully not too much worse_\n",
    "    - If it is much worse, we should suspect that the original model just reflects the individual features of the training sample, rather than patterns that hold for the general population"
   ]
  },
  {
   "cell_type": "markdown",
   "id": "dc26d677-fdad-4630-88a6-d0644a0c486c",
   "metadata": {},
   "source": [
    "## Example 1"
   ]
  },
  {
   "cell_type": "markdown",
   "id": "a811fc59-ff80-4599-8344-991e08140baa",
   "metadata": {},
   "source": [
    "The dataset `HousesNY` from the `Stat2Data` library contains data for a random sample of 53 homes in Canton, New York."
   ]
  },
  {
   "cell_type": "code",
   "execution_count": null,
   "id": "763d7be5-f27f-4b63-9409-68994084d8c6",
   "metadata": {},
   "outputs": [],
   "source": [
    "library(Stat2Data)\n",
    "data(HousesNY)\n",
    "head(HousesNY)"
   ]
  },
  {
   "cell_type": "markdown",
   "id": "64d26564-4b6e-49fb-b1b5-03925df397fc",
   "metadata": {},
   "source": [
    "### a.\n",
    "Since the data comes from a random sample in no particular order, we'll use the first 35 cases as the training sample and reserve the final 18 cases for the holdout sample.\n",
    "\n",
    "Let's create dataframes for the training and holdout samples:"
   ]
  },
  {
   "cell_type": "code",
   "execution_count": null,
   "id": "80f311b1-3751-402c-8f65-5e796857dbf1",
   "metadata": {},
   "outputs": [],
   "source": []
  },
  {
   "cell_type": "markdown",
   "id": "5707178e-7f6a-486b-b6ac-25a1c8d3a22e",
   "metadata": {},
   "source": [
    "### b.\n",
    "Use the training sample to fit a model that predicts $\\mathit{Price}$ based on $\\mathit{Size}$."
   ]
  },
  {
   "cell_type": "code",
   "execution_count": null,
   "id": "35e66d3b-b24c-4741-a9f1-117d083c1314",
   "metadata": {},
   "outputs": [],
   "source": []
  },
  {
   "cell_type": "markdown",
   "id": "9c4298a7-5f99-4e63-bbd1-fd5d66089b3a",
   "metadata": {},
   "source": [
    "### c.\n",
    "Create scatterplots for both the training and holdout samples. \n",
    "On each scatterplot, draw the least squares line you found in part b."
   ]
  },
  {
   "cell_type": "code",
   "execution_count": null,
   "id": "ae0fdedc-2bd6-40db-807d-15ff79dd74c8",
   "metadata": {},
   "outputs": [],
   "source": []
  },
  {
   "cell_type": "markdown",
   "id": "b40fa68c-edb8-4205-96e7-c4d1be3daf69",
   "metadata": {},
   "source": [
    "### d.\n",
    "Using your fitted model from part b, predict the prices of the houses in the holdout sample."
   ]
  },
  {
   "cell_type": "code",
   "execution_count": null,
   "id": "d2bcf9e2-2ee5-43f9-a816-39ea3b79be1f",
   "metadata": {},
   "outputs": [],
   "source": []
  },
  {
   "cell_type": "markdown",
   "id": "7efc3c57-4f50-495b-8651-c08ddae88cc3",
   "metadata": {},
   "source": [
    "### e.\n",
    "Compute the residuals for the houses in the holdout sample. Compute the mean residual."
   ]
  },
  {
   "cell_type": "code",
   "execution_count": null,
   "id": "3c50db16-302e-4203-8a85-78230a6aea33",
   "metadata": {},
   "outputs": [],
   "source": []
  },
  {
   "cell_type": "markdown",
   "id": "ac2c5fe3-ae03-494c-8b2c-cfbf325f3498",
   "metadata": {},
   "source": [
    "### f.\n",
    "Compute the cross-validation correlation between the actual and predicted prices in the holdout sample."
   ]
  },
  {
   "cell_type": "code",
   "execution_count": null,
   "id": "512d70ae-b5ed-47f2-a772-36af37088768",
   "metadata": {},
   "outputs": [],
   "source": []
  },
  {
   "cell_type": "markdown",
   "id": "811182e2-738c-4b30-833e-333709405e58",
   "metadata": {},
   "source": [
    "### g.\n",
    "Square the cross-validation correlation you found in part f and subtract it from $R^2$  to compute the __shrinkage__.\n",
    "\n",
    "We use shrinkage as a rough indicator of how well the model is doing at predicting the holdout sample. Shrinkage of 10% or less should not be a problem, but shrinkage of more than 50% would be worrisome."
   ]
  },
  {
   "cell_type": "code",
   "execution_count": null,
   "id": "dbc6fe42-483e-4694-a9e4-3a8771329a65",
   "metadata": {},
   "outputs": [],
   "source": []
  },
  {
   "cell_type": "markdown",
   "id": "a409dfc3-dfb2-4026-9bba-96a8feb1c9bc",
   "metadata": {},
   "source": [
    "*Write your notes here. Double-click to edit.*"
   ]
  },
  {
   "cell_type": "markdown",
   "id": "5543725d-b6f5-496a-8485-422ccc23d30e",
   "metadata": {},
   "source": [
    "## Notes"
   ]
  },
  {
   "cell_type": "markdown",
   "id": "8d490acf-ac69-4675-864d-9667b1975b35",
   "metadata": {},
   "source": [
    "- One drawback of doing cross-validation with a holdout sample: the training model is built with a smaller sample size\n",
    "\n",
    "- There are many variations on cross-validation, e.g.\n",
    "\n",
    "    - e.g., We could also take an original sample of 500 cases and randomly divide it into 5 samples of 100 each. Then we let each of the smaller samples take a turn as the holdout sample, using the other 400 values for training."
   ]
  }
 ],
 "metadata": {
  "kernelspec": {
   "display_name": "R",
   "language": "R",
   "name": "ir"
  },
  "language_info": {
   "codemirror_mode": "r",
   "file_extension": ".r",
   "mimetype": "text/x-r-source",
   "name": "R",
   "pygments_lexer": "r",
   "version": "4.2.2"
  }
 },
 "nbformat": 4,
 "nbformat_minor": 5
}
